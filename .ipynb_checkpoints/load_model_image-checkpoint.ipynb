{
 "cells": [
  {
   "cell_type": "markdown",
   "metadata": {},
   "source": [
    "## Detecting Faces from a image"
   ]
  },
  {
   "cell_type": "code",
   "execution_count": null,
   "metadata": {},
   "outputs": [],
   "source": [
    "import numpy as np\n",
    "import cv2\n",
    "import os"
   ]
  },
  {
   "cell_type": "code",
   "execution_count": 8,
   "metadata": {},
   "outputs": [
    {
     "name": "stdout",
     "output_type": "stream",
     "text": [
      "<module 'Face_Recognition' (<import_ipynb.NotebookLoader object at 0x7fa103cc3690>)>\n"
     ]
    }
   ],
   "source": [
    "import import_ipynb\n",
    "import Face_Recognition as fr\n",
    "print(fr)"
   ]
  },
  {
   "cell_type": "code",
   "execution_count": 9,
   "metadata": {},
   "outputs": [
    {
     "name": "stdout",
     "output_type": "stream",
     "text": [
      "Faces Detected: [[128 212 146 146]]\n"
     ]
    }
   ],
   "source": [
    "test_img = cv2.imread(r'image') # Path of the image\n",
    "faces_detected, gray_img = fr.faceDetection(test_img)\n",
    "print(\"Faces Detected:\", faces_detected)\n"
   ]
  },
  {
   "cell_type": "code",
   "execution_count": null,
   "metadata": {},
   "outputs": [],
   "source": [
    "face_recognizer = cv2.face.LBPHFaceRecognizer_create()\n",
    "# Reading the yml file where the trained data is stored\n",
    "face_recognizer.read(r'trainingdata.yml') # Give the path to our trained yml file\n",
    "\n",
    "name={0:\"Person0\",1:\"Person1\",2:\"Person2\",3:\"Person3\"}\n",
    "\n",
    "for face in faces_detected:\n",
    "    (x,y,w,h) = face\n",
    "    roi_gray = gray_img[x:x+w, y:y+h]\n",
    "    label, confidence = face_recognizer.predict(roi_gray)\n",
    "    print(\"Confidence\", confidence)\n",
    "    print(\"Label\", label)\n",
    "    fr.draw_rect(test_img, face)\n",
    "    predicted_name = name[label]\n",
    "    fr.put_text(test_img, predicted_name, x,y)\n",
    "    \n",
    "cv2.imshow(\"Detected Face\", test_img)\n",
    "\n",
    "# Resizing the image\n",
    "# resized_img = cv2.resize(test_img,(1000,700))\n",
    "# cv2.imshow(\"Detected Face\", resized_img)\n",
    "\n",
    "cv2.waitKey(0)\n",
    "cv2.destroyAllWindows()\n"
   ]
  },
  {
   "cell_type": "code",
   "execution_count": null,
   "metadata": {},
   "outputs": [],
   "source": []
  }
 ],
 "metadata": {
  "kernelspec": {
   "display_name": "Python 3",
   "language": "python",
   "name": "python3"
  },
  "language_info": {
   "codemirror_mode": {
    "name": "ipython",
    "version": 3
   },
   "file_extension": ".py",
   "mimetype": "text/x-python",
   "name": "python",
   "nbconvert_exporter": "python",
   "pygments_lexer": "ipython3",
   "version": "3.7.4"
  }
 },
 "nbformat": 4,
 "nbformat_minor": 4
}
