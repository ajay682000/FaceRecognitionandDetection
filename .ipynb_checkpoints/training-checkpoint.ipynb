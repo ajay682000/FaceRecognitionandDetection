{
 "cells": [
  {
   "cell_type": "code",
   "execution_count": 1,
   "metadata": {},
   "outputs": [],
   "source": [
    "import numpy as np\n",
    "import cv2\n",
    "import os"
   ]
  },
  {
   "cell_type": "code",
   "execution_count": 2,
   "metadata": {},
   "outputs": [
    {
     "name": "stdout",
     "output_type": "stream",
     "text": [
      "importing Jupyter notebook from Face_Recognition.ipynb\n",
      "<module 'Face_Recognition' (<import_ipynb.NotebookLoader object at 0x7fa2380e8750>)>\n"
     ]
    }
   ],
   "source": [
    "# Import the Face_Recognition notebook we created here\n",
    "import import_ipynb\n",
    "import Face_Recognition as fr # Face_Recognition.ipynb\n",
    "print(fr)"
   ]
  },
  {
   "cell_type": "code",
   "execution_count": 3,
   "metadata": {},
   "outputs": [
    {
     "name": "stdout",
     "output_type": "stream",
     "text": [
      "Face Detected [[217 156 174 174]]\n"
     ]
    }
   ],
   "source": [
    "test_img = cv2.imread(r'ak.jpeg')\n",
    "# importing the faceDetection function from fr\n",
    "faces_detected,gray_img = fr.faceDetection(test_img)\n",
    "print(\"Face Detected\", faces_detected)"
   ]
  },
  {
   "cell_type": "code",
   "execution_count": null,
   "metadata": {},
   "outputs": [],
   "source": [
    "# Training will begin from here\n",
    "# Calling labels_for_training_data from fr\n",
    "faces, faceID = fr.labels_for_training_data(r'Images')  # Images dataset path\n",
    "# Calling train_classifier from fr\n",
    "face_recognizer = fr.train_classifier(faces, faceID)\n",
    "# Saving the trained data in yml file\n",
    "face_recognizer.save(r'trainingdata.yml') # Path to the yml file\n",
    "# Write the name of the person in the directory in dict format\n",
    "name={0:\"Person0\",1:\"Person1\",2:\"Person2\",3:\"Person3\"}\n",
    "\n",
    "for face in faces_detected:\n",
    "    (x,y,w,h) = face\n",
    "    roi_gray = gray_img[x:x+h, y:y+w]\n",
    "    label,confidence = face_recognizer.predict(roi_gray)\n",
    "    print(\"label\")\n",
    "    print(\"confidence\")\n",
    "#     Calling draw_rect from fr\n",
    "    fr.draw_rect(test_img, face)\n",
    "    predict_name = name[label]\n",
    "#     Calling put_text from fr\n",
    "    fr.put_text(test_img, predict_name, x, y)\n",
    "\n",
    "    \n",
    "# cv2.imshow(\"Detected Face\", test_img)\n",
    "\n",
    "# Resizing the image\n",
    "resized_img = cv2.resize(test_img,(1000,700))\n",
    "cv2.imshow(\"Detected Face\", resized_img)\n",
    "\n",
    "cv2.waitKey(0)\n",
    "cv2.destroyAllWindows()\n",
    "\n",
    "# If tuple out of range error occurs then the pictures in the dataset was not clear. Delete the uncleared photos and train it again"
   ]
  },
  {
   "cell_type": "code",
   "execution_count": null,
   "metadata": {},
   "outputs": [],
   "source": []
  },
  {
   "cell_type": "code",
   "execution_count": null,
   "metadata": {},
   "outputs": [],
   "source": []
  }
 ],
 "metadata": {
  "kernelspec": {
   "display_name": "Python 3",
   "language": "python",
   "name": "python3"
  },
  "language_info": {
   "codemirror_mode": {
    "name": "ipython",
    "version": 3
   },
   "file_extension": ".py",
   "mimetype": "text/x-python",
   "name": "python",
   "nbconvert_exporter": "python",
   "pygments_lexer": "ipython3",
   "version": "3.7.4"
  }
 },
 "nbformat": 4,
 "nbformat_minor": 4
}
