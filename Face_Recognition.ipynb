{
 "cells": [
  {
   "cell_type": "code",
   "execution_count": 1,
   "metadata": {},
   "outputs": [
    {
     "data": {
      "text/plain": [
       "'FACE RECOGNITION USING OPENCV LBPH METHOD'"
      ]
     },
     "execution_count": 1,
     "metadata": {},
     "output_type": "execute_result"
    }
   ],
   "source": [
    "'''FACE RECOGNITION USING OPENCV LBPH METHOD'''\n",
    "# LBPH - Local Binary Pattern Histogram"
   ]
  },
  {
   "cell_type": "code",
   "execution_count": 2,
   "metadata": {},
   "outputs": [],
   "source": [
    "import numpy as np\n",
    "import cv2 # pip install opencv-contrib-python\n",
    "import os"
   ]
  },
  {
   "cell_type": "code",
   "execution_count": 9,
   "metadata": {},
   "outputs": [],
   "source": [
    "# Detecting the face\n",
    "def faceDetection(test_img):\n",
    "#     Convert the image to gray scale \n",
    "    gray_img = cv2.cvtColor(test_img, cv2.COLOR_BGR2GRAY)\n",
    "#     Load the CascadeClassifier\n",
    "    face_haar = cv2.CascadeClassifier(r'haarcascade_frontalface_alt.xml')\n",
    "#     Detecting the faces\n",
    "    faces = face_haar.detectMultiScale(gray_img, scaleFactor=1.3,minNeighbors=3)\n",
    "    return faces,gray_img\n",
    "# faceDetection(cv2.imread(r'ak.jpeg'))"
   ]
  },
  {
   "cell_type": "code",
   "execution_count": 4,
   "metadata": {},
   "outputs": [],
   "source": [
    "# Labels for training data has been created\n",
    "def labels_for_training_data(directory):\n",
    "    faces = [] # list of faces\n",
    "    faceID = [] # list of faceID - Directory name\n",
    "    \n",
    "    for path,subdirnames,filenames in os.walk(directory):\n",
    "        for filename in filenames:\n",
    "#             If there is system file it skipps\n",
    "            if filename.startswith(\".\"):\n",
    "                print(\"Skipping system file\")\n",
    "                continue\n",
    "#                 Printing the id - ie., the directory\n",
    "            id = os.path.basename(path)\n",
    "#     Printing the image path\n",
    "            img_path = os.path.join(path,filename)\n",
    "            print(\"img_path\", img_path)\n",
    "            print(\"id\", id)\n",
    "#             Reading the images from the dataset\n",
    "            test_img = cv2.imread(img_path)\n",
    "            if test_img is None:\n",
    "                print(\"Not Loaded Properly\")\n",
    "                continue\n",
    "            \n",
    "            faces_rect,gray_img = faceDetection(test_img)\n",
    "            (x,y,w,h) = faces_rect[0] \n",
    "            #roi - reason of interest\n",
    "            roi_gray = gray_img[y:y+w, x:x+h]\n",
    "            faces.append(roi_gray)\n",
    "            faceID.append(int(id))\n",
    "    return faces,faceID"
   ]
  },
  {
   "cell_type": "code",
   "execution_count": 8,
   "metadata": {},
   "outputs": [],
   "source": [
    "# Here Training Classifier is Called\n",
    "def train_classifier(faces,faceID):\n",
    "    face_recognizer = cv2.face.LBPHFaceRecognizer_create()\n",
    "    face_recognizer.train(faces, np.array(faceID))\n",
    "    return face_recognizer\n",
    "    "
   ]
  },
  {
   "cell_type": "code",
   "execution_count": 6,
   "metadata": {},
   "outputs": [],
   "source": [
    "# Drawing a Rectangle on the Face Function\n",
    "def draw_rect(test_img, face):\n",
    "    (x,y,w,h) = face\n",
    "    cv2.rectangle(test_img,(x,y), (x+w, y+h),(0,0,255), thickness = 3)"
   ]
  },
  {
   "cell_type": "code",
   "execution_count": 7,
   "metadata": {},
   "outputs": [],
   "source": [
    "# Putting text on images\n",
    "def put_text(test_img, label_name, x,y):\n",
    "    cv2.putText(test_img, label_name,(x,y), cv2.FONT_HERSHEY_DUPLEX,1,(255,0,0),3)"
   ]
  },
  {
   "cell_type": "code",
   "execution_count": null,
   "metadata": {},
   "outputs": [],
   "source": []
  }
 ],
 "metadata": {
  "kernelspec": {
   "display_name": "Python 3",
   "language": "python",
   "name": "python3"
  },
  "language_info": {
   "codemirror_mode": {
    "name": "ipython",
    "version": 3
   },
   "file_extension": ".py",
   "mimetype": "text/x-python",
   "name": "python",
   "nbconvert_exporter": "python",
   "pygments_lexer": "ipython3",
   "version": "3.7.4"
  }
 },
 "nbformat": 4,
 "nbformat_minor": 4
}
